#| echo: false
import matplotlib.pyplot as plt
import numpy as np
import pandas as pd
import seaborn as sns
import seaborn.objects as so

sns.set_theme(style="darkgrid")


#| code-fold: true
#| label: fig-uniform
#| fig-cap: the population is of uniform distribution
#| cap-location: bottom
data = np.random.uniform(size=10000)
_ = sns.histplot(data)


sample = np.random.choice(data, 100)
sample.mean()


for _ in range(5):
    sample = np.random.choice(data, 100)
    print(sample.mean())


#| code-fold: true
#| label: fig-normal
#| fig-cap: the sample mean is approximately of normal distribution
#| cap-location: bottom
sampling_means = []
for _ in range(10000):
    sample = np.random.choice(data, 100)
    mean = sample.mean()
    sampling_means.append(mean)
_ = sns.histplot(sampling_means)


#| code-fold: true
#| label: fig-size
#| fig-cap: the sample mean distribution for different sample sizes
#| cap-location: bottom

sampling_means = []
for n in [100, 300, 500]:
    for _ in range(10000):
        sample = np.random.choice(data, n)
        mean = sample.mean()
        sampling_means.append({"n": str(n), "data": mean})

df = pd.DataFrame(sampling_means)
_ = sns.displot(df, x="data", kind="kde", hue="n")


#| code-fold: true
#| label: fig-skewed
#| fig-cap: the population is skewed to the right
#| cap-location: bottom
data = np.random.beta(5, 2, size=10000)
_ = sns.histplot(data)


#| code-fold: true
#| label: fig-skewed_normal
#| fig-cap: the sample mean is approximately of normal distribution even if the population is skewed
#| cap-location: bottom

sampling_means = []
for _ in range(10000):
    sample = np.random.choice(data, 200)
    mean = sample.mean()
    sampling_means.append(mean)
_ = sns.histplot(sampling_means)



