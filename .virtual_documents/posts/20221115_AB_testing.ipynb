from scipy.stats import bernoulli

size_1 = 100
size_2 = 100

# the "true" CTR of both layouts
p_1 = 0.7
p_2 = 0.9

population_1 = bernoulli.rvs(p_1, size=size_1)
population_2 = bernoulli.rvs(p_2, size=size_2)


import pymc as pm
import arviz as az
import matplotlib.pyplot as plt

az.style.use("fivethirtyeight")


with pm.Model() as model:
    ctr1 = pm.Beta("ctr1", alpha=1, beta=1)
    ctr2 = pm.Beta("ctr2", alpha=1, beta=1)
    click1 = pm.Binomial("click1", p=ctr1, n=size_1, observed=sum(population_1))
    click2 = pm.Binomial("click2", p=ctr2, n=size_2, observed=sum(population_2))
    diff = pm.Deterministic("diff", ctr2-ctr1)
    t = pm.sample()


fig, axs = plt.subplots(2, 1, figsize=(7, 7), sharex=True)
az.plot_posterior(t.posterior["ctr1"], ax=axs[0])
axs[0].set_title("Click Trough Rate (Layout 1)", fontsize=20)
az.plot_posterior(t.posterior["ctr2"], ax=axs[1])
axs[1].set_title(C)


az.plot_posterior(t, var_names=["diff"])
plt.title("Difference between CTR", fontsize=20)



